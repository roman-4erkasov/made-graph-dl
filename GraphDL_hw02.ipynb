{
  "nbformat": 4,
  "nbformat_minor": 0,
  "metadata": {
    "colab": {
      "name": "GraphDL_hw02.ipynb",
      "provenance": [],
      "collapsed_sections": []
    },
    "kernelspec": {
      "display_name": "Python 3",
      "language": "python",
      "name": "python3"
    },
    "language_info": {
      "codemirror_mode": {
        "name": "ipython",
        "version": 3
      },
      "file_extension": ".py",
      "mimetype": "text/x-python",
      "name": "python",
      "nbconvert_exporter": "python",
      "pygments_lexer": "ipython3",
      "version": "3.7.4"
    },
    "widgets": {
      "application/vnd.jupyter.widget-state+json": {
        "d92b829983534fb4b3e7a9920c896d68": {
          "model_module": "@jupyter-widgets/controls",
          "model_name": "HBoxModel",
          "model_module_version": "1.5.0",
          "state": {
            "_view_name": "HBoxView",
            "_dom_classes": [],
            "_model_name": "HBoxModel",
            "_view_module": "@jupyter-widgets/controls",
            "_model_module_version": "1.5.0",
            "_view_count": null,
            "_view_module_version": "1.5.0",
            "box_style": "",
            "layout": "IPY_MODEL_af3011d1fefe4a7888e9e83c54eef9a4",
            "_model_module": "@jupyter-widgets/controls",
            "children": [
              "IPY_MODEL_39bd026bc2b74f979f4ae109c4294ca9",
              "IPY_MODEL_a56f33047ae742b9b2158813b7086d4e",
              "IPY_MODEL_fa0ea52fd2ee4c83a40f9c1863dad83c"
            ]
          }
        },
        "af3011d1fefe4a7888e9e83c54eef9a4": {
          "model_module": "@jupyter-widgets/base",
          "model_name": "LayoutModel",
          "model_module_version": "1.2.0",
          "state": {
            "_view_name": "LayoutView",
            "grid_template_rows": null,
            "right": null,
            "justify_content": null,
            "_view_module": "@jupyter-widgets/base",
            "overflow": null,
            "_model_module_version": "1.2.0",
            "_view_count": null,
            "flex_flow": null,
            "width": null,
            "min_width": null,
            "border": null,
            "align_items": null,
            "bottom": null,
            "_model_module": "@jupyter-widgets/base",
            "top": null,
            "grid_column": null,
            "overflow_y": null,
            "overflow_x": null,
            "grid_auto_flow": null,
            "grid_area": null,
            "grid_template_columns": null,
            "flex": null,
            "_model_name": "LayoutModel",
            "justify_items": null,
            "grid_row": null,
            "max_height": null,
            "align_content": null,
            "visibility": null,
            "align_self": null,
            "height": null,
            "min_height": null,
            "padding": null,
            "grid_auto_rows": null,
            "grid_gap": null,
            "max_width": null,
            "order": null,
            "_view_module_version": "1.2.0",
            "grid_template_areas": null,
            "object_position": null,
            "object_fit": null,
            "grid_auto_columns": null,
            "margin": null,
            "display": null,
            "left": null
          }
        },
        "39bd026bc2b74f979f4ae109c4294ca9": {
          "model_module": "@jupyter-widgets/controls",
          "model_name": "HTMLModel",
          "model_module_version": "1.5.0",
          "state": {
            "_view_name": "HTMLView",
            "style": "IPY_MODEL_3f1307616a474cd0867882a2b52eace4",
            "_dom_classes": [],
            "description": "",
            "_model_name": "HTMLModel",
            "placeholder": "​",
            "_view_module": "@jupyter-widgets/controls",
            "_model_module_version": "1.5.0",
            "value": " 12%",
            "_view_count": null,
            "_view_module_version": "1.5.0",
            "description_tooltip": null,
            "_model_module": "@jupyter-widgets/controls",
            "layout": "IPY_MODEL_a6fa3e4919794e198fded8feb134cb54"
          }
        },
        "a56f33047ae742b9b2158813b7086d4e": {
          "model_module": "@jupyter-widgets/controls",
          "model_name": "FloatProgressModel",
          "model_module_version": "1.5.0",
          "state": {
            "_view_name": "ProgressView",
            "style": "IPY_MODEL_9b6d74d988b0442b8bf40d861226ac28",
            "_dom_classes": [],
            "description": "",
            "_model_name": "FloatProgressModel",
            "bar_style": "",
            "max": 500,
            "_view_module": "@jupyter-widgets/controls",
            "_model_module_version": "1.5.0",
            "value": 60,
            "_view_count": null,
            "_view_module_version": "1.5.0",
            "orientation": "horizontal",
            "min": 0,
            "description_tooltip": null,
            "_model_module": "@jupyter-widgets/controls",
            "layout": "IPY_MODEL_d829cb907ac54c86ad43ebb3db0dee51"
          }
        },
        "fa0ea52fd2ee4c83a40f9c1863dad83c": {
          "model_module": "@jupyter-widgets/controls",
          "model_name": "HTMLModel",
          "model_module_version": "1.5.0",
          "state": {
            "_view_name": "HTMLView",
            "style": "IPY_MODEL_73092834eb2340e38c1fbacec6a0b312",
            "_dom_classes": [],
            "description": "",
            "_model_name": "HTMLModel",
            "placeholder": "​",
            "_view_module": "@jupyter-widgets/controls",
            "_model_module_version": "1.5.0",
            "value": " 60/500 [01:15&lt;09:12,  1.26s/it]",
            "_view_count": null,
            "_view_module_version": "1.5.0",
            "description_tooltip": null,
            "_model_module": "@jupyter-widgets/controls",
            "layout": "IPY_MODEL_f8446bd8175e4a568c11d7228b9577f5"
          }
        },
        "3f1307616a474cd0867882a2b52eace4": {
          "model_module": "@jupyter-widgets/controls",
          "model_name": "DescriptionStyleModel",
          "model_module_version": "1.5.0",
          "state": {
            "_view_name": "StyleView",
            "_model_name": "DescriptionStyleModel",
            "description_width": "",
            "_view_module": "@jupyter-widgets/base",
            "_model_module_version": "1.5.0",
            "_view_count": null,
            "_view_module_version": "1.2.0",
            "_model_module": "@jupyter-widgets/controls"
          }
        },
        "a6fa3e4919794e198fded8feb134cb54": {
          "model_module": "@jupyter-widgets/base",
          "model_name": "LayoutModel",
          "model_module_version": "1.2.0",
          "state": {
            "_view_name": "LayoutView",
            "grid_template_rows": null,
            "right": null,
            "justify_content": null,
            "_view_module": "@jupyter-widgets/base",
            "overflow": null,
            "_model_module_version": "1.2.0",
            "_view_count": null,
            "flex_flow": null,
            "width": null,
            "min_width": null,
            "border": null,
            "align_items": null,
            "bottom": null,
            "_model_module": "@jupyter-widgets/base",
            "top": null,
            "grid_column": null,
            "overflow_y": null,
            "overflow_x": null,
            "grid_auto_flow": null,
            "grid_area": null,
            "grid_template_columns": null,
            "flex": null,
            "_model_name": "LayoutModel",
            "justify_items": null,
            "grid_row": null,
            "max_height": null,
            "align_content": null,
            "visibility": null,
            "align_self": null,
            "height": null,
            "min_height": null,
            "padding": null,
            "grid_auto_rows": null,
            "grid_gap": null,
            "max_width": null,
            "order": null,
            "_view_module_version": "1.2.0",
            "grid_template_areas": null,
            "object_position": null,
            "object_fit": null,
            "grid_auto_columns": null,
            "margin": null,
            "display": null,
            "left": null
          }
        },
        "9b6d74d988b0442b8bf40d861226ac28": {
          "model_module": "@jupyter-widgets/controls",
          "model_name": "ProgressStyleModel",
          "model_module_version": "1.5.0",
          "state": {
            "_view_name": "StyleView",
            "_model_name": "ProgressStyleModel",
            "description_width": "",
            "_view_module": "@jupyter-widgets/base",
            "_model_module_version": "1.5.0",
            "_view_count": null,
            "_view_module_version": "1.2.0",
            "bar_color": null,
            "_model_module": "@jupyter-widgets/controls"
          }
        },
        "d829cb907ac54c86ad43ebb3db0dee51": {
          "model_module": "@jupyter-widgets/base",
          "model_name": "LayoutModel",
          "model_module_version": "1.2.0",
          "state": {
            "_view_name": "LayoutView",
            "grid_template_rows": null,
            "right": null,
            "justify_content": null,
            "_view_module": "@jupyter-widgets/base",
            "overflow": null,
            "_model_module_version": "1.2.0",
            "_view_count": null,
            "flex_flow": null,
            "width": null,
            "min_width": null,
            "border": null,
            "align_items": null,
            "bottom": null,
            "_model_module": "@jupyter-widgets/base",
            "top": null,
            "grid_column": null,
            "overflow_y": null,
            "overflow_x": null,
            "grid_auto_flow": null,
            "grid_area": null,
            "grid_template_columns": null,
            "flex": null,
            "_model_name": "LayoutModel",
            "justify_items": null,
            "grid_row": null,
            "max_height": null,
            "align_content": null,
            "visibility": null,
            "align_self": null,
            "height": null,
            "min_height": null,
            "padding": null,
            "grid_auto_rows": null,
            "grid_gap": null,
            "max_width": null,
            "order": null,
            "_view_module_version": "1.2.0",
            "grid_template_areas": null,
            "object_position": null,
            "object_fit": null,
            "grid_auto_columns": null,
            "margin": null,
            "display": null,
            "left": null
          }
        },
        "73092834eb2340e38c1fbacec6a0b312": {
          "model_module": "@jupyter-widgets/controls",
          "model_name": "DescriptionStyleModel",
          "model_module_version": "1.5.0",
          "state": {
            "_view_name": "StyleView",
            "_model_name": "DescriptionStyleModel",
            "description_width": "",
            "_view_module": "@jupyter-widgets/base",
            "_model_module_version": "1.5.0",
            "_view_count": null,
            "_view_module_version": "1.2.0",
            "_model_module": "@jupyter-widgets/controls"
          }
        },
        "f8446bd8175e4a568c11d7228b9577f5": {
          "model_module": "@jupyter-widgets/base",
          "model_name": "LayoutModel",
          "model_module_version": "1.2.0",
          "state": {
            "_view_name": "LayoutView",
            "grid_template_rows": null,
            "right": null,
            "justify_content": null,
            "_view_module": "@jupyter-widgets/base",
            "overflow": null,
            "_model_module_version": "1.2.0",
            "_view_count": null,
            "flex_flow": null,
            "width": null,
            "min_width": null,
            "border": null,
            "align_items": null,
            "bottom": null,
            "_model_module": "@jupyter-widgets/base",
            "top": null,
            "grid_column": null,
            "overflow_y": null,
            "overflow_x": null,
            "grid_auto_flow": null,
            "grid_area": null,
            "grid_template_columns": null,
            "flex": null,
            "_model_name": "LayoutModel",
            "justify_items": null,
            "grid_row": null,
            "max_height": null,
            "align_content": null,
            "visibility": null,
            "align_self": null,
            "height": null,
            "min_height": null,
            "padding": null,
            "grid_auto_rows": null,
            "grid_gap": null,
            "max_width": null,
            "order": null,
            "_view_module_version": "1.2.0",
            "grid_template_areas": null,
            "object_position": null,
            "object_fit": null,
            "grid_auto_columns": null,
            "margin": null,
            "display": null,
            "left": null
          }
        }
      }
    }
  },
  "cells": [
    {
      "cell_type": "markdown",
      "metadata": {
        "id": "Qb4sGdJhMDjy"
      },
      "source": [
        "# Assignment — Deep Recurrent Graph Generation"
      ]
    },
    {
      "cell_type": "markdown",
      "metadata": {
        "id": "OM1VMGp9JW8X"
      },
      "source": [
        "### Task 1. Recurrent attention GNN (1 point)"
      ]
    },
    {
      "cell_type": "code",
      "metadata": {
        "colab": {
          "base_uri": "https://localhost:8080/",
          "height": 125
        },
        "id": "M4hI19NmaSQr",
        "outputId": "3fb41178-1ae4-4d37-b086-9ccc17843ea8"
      },
      "source": [
        "!pip install dgl -f https://data.dgl.ai/wheels/repo.html -q\n",
        "# !pip install dgl-cu113 -f https://data.dgl.ai/wheels/repo.html -q\n",
        "import dgl\n",
        "dgl.__version__\n"
      ],
      "execution_count": 1,
      "outputs": [
        {
          "output_type": "stream",
          "name": "stdout",
          "text": [
            "\u001b[K     |████████████████████████████████| 5.7 MB 4.9 MB/s \n",
            "\u001b[?25hSetting the default backend to \"pytorch\". You can change it in the ~/.dgl/config.json file or export the DGLBACKEND environment variable.  Valid options are: pytorch, mxnet, tensorflow (all lowercase)\n"
          ]
        },
        {
          "output_type": "stream",
          "name": "stderr",
          "text": [
            "DGL backend not selected or invalid.  Assuming PyTorch for now.\n",
            "Using backend: pytorch\n"
          ]
        },
        {
          "output_type": "execute_result",
          "data": {
            "application/vnd.google.colaboratory.intrinsic+json": {
              "type": "string"
            },
            "text/plain": [
              "'0.7.2'"
            ]
          },
          "metadata": {},
          "execution_count": 1
        }
      ]
    },
    {
      "cell_type": "code",
      "metadata": {
        "id": "MhMp8pbWbl_7"
      },
      "source": [
        "import dgl\n",
        "import dgl.nn as dnn\n",
        "import dgl.function as fn\n",
        "from dgl.data import DGLDataset, GINDataset\n",
        "\n",
        "import torch\n",
        "import torch.nn as nn\n",
        "import torch.distributions as D\n",
        "import torch.nn.functional as F\n",
        "from torch.optim import Adam\n",
        "from torch.utils.data import DataLoader, Subset\n",
        "\n",
        "import networkx as nx\n",
        "import matplotlib.pyplot as plt\n",
        "import numpy as np\n",
        "from scipy.stats import ks_2samp\n",
        "\n",
        "from tqdm.notebook import trange, tqdm\n",
        "import requests"
      ],
      "execution_count": 2,
      "outputs": []
    },
    {
      "cell_type": "code",
      "metadata": {
        "colab": {
          "base_uri": "https://localhost:8080/"
        },
        "id": "58lh0VWv66zO",
        "outputId": "06f0b122-7755-4eca-da4f-d41d4f12da8d"
      },
      "source": [
        "device = torch.device('cuda') if torch.cuda.is_available() else torch.device('cpu')\n",
        "device"
      ],
      "execution_count": 3,
      "outputs": [
        {
          "output_type": "execute_result",
          "data": {
            "text/plain": [
              "device(type='cpu')"
            ]
          },
          "metadata": {},
          "execution_count": 3
        }
      ]
    },
    {
      "cell_type": "markdown",
      "metadata": {
        "id": "ipT9aDuuPLcA"
      },
      "source": [
        "The traditional graph generation approaches (Erdos-Renyi, Barabasi-Albert, etc.) can be used to efficiently generate synthetic graphs that have certain properties. Such models can give us insight into how certain graph structures might arise in the real world. However, they rely on a fixed, handcrafted generation process. On the other side, deep generation approaches will seek to learn a generative model on a set of training graphs. This assignment is dedicated to a such generative model inspired by GRAN [Liao et al., 2019](https://arxiv.org/pdf/1910.00760.pdf). \n",
        "\n",
        "The idea of the model is to generate a graph by adding nodes one-by-one. Features of existing nodes are fed into a recurrent attention GNN for creating node embedding. Then the embeddings used for estimating parameters of Bernoulli distributions that can model probabilities of new edges. First, let us create a recurrent attention model for node embedding. Each layer in the network takes a graph with node states $h^l$ and propagate them as follows:\n",
        "\n",
        "$$h^{l+1}_i = \\text{GRU}\\left(h^l_i, \\sum_{j\\in\\mathcal{N}(i)} a_{ij}^l m_{ij}^l\\right)$$\n",
        "$$m_{ij}^l = f(h_i^l - h_j^l)$$\n",
        "$$a_{ij}^l = g(h_i^l - h_j^l)$$\n",
        "\n",
        "where $\\mathcal{N}(i)$ is a neighborhood of the node $i$, $f(\\cdot)$ is the message function, $g(\\cdot)$ is the attention head (both are two-layer MLP). The initial node states are node features. The node embeddings are final node states.\n",
        "\n",
        "Write a function `_prop` that takes a graph, node states, index of a layer and propagate current node states, returns next node states.\n",
        "\n",
        "*Hints:* \n",
        "* *apply the DGL message passing framework*\n",
        "* *`fn.u_sub_v` for creating messages — difference between adjacent node states*\n",
        "* *`graph.apply_edges` for storing the messages into edge features*\n",
        "* *`graph.update_all` for reduction messages from adjacent edges (summation in this task)*"
      ]
    },
    {
      "cell_type": "code",
      "metadata": {
        "deletable": false,
        "id": "5n3W7eniNOeY",
        "nbgrader": {
          "cell_type": "code",
          "checksum": "1c9ff854c5afabfce87304a51672bb7a",
          "grade": false,
          "grade_id": "cell-bc0c1855de705635",
          "locked": false,
          "schema_version": 3,
          "solution": true,
          "task": false
        }
      },
      "source": [
        "class RecurrentGNN(nn.Module):\n",
        "    def __init__(self, node_state_dim, hid_dim, num_layer):\n",
        "        super().__init__()\n",
        "        self.num_layer = num_layer\n",
        "        self.update_func = nn.ModuleList([\n",
        "            nn.GRUCell(input_size=hid_dim, hidden_size=node_state_dim) \n",
        "            for _ in range(self.num_layer)\n",
        "        ])\n",
        "        self.msg_func = nn.ModuleList([\n",
        "            nn.Sequential(\n",
        "                *[\n",
        "                    nn.Linear(node_state_dim, hid_dim),\n",
        "                    nn.ReLU(),\n",
        "                    nn.Linear(hid_dim, hid_dim)\n",
        "                ]) for _ in range(self.num_layer)\n",
        "        ])\n",
        "        self.att_head = nn.ModuleList([\n",
        "            nn.Sequential(\n",
        "                *[\n",
        "                    nn.Linear(node_state_dim, hid_dim),\n",
        "                    nn.ReLU(),\n",
        "                    nn.Linear(hid_dim, hid_dim),\n",
        "                    nn.Sigmoid()\n",
        "                ]) for _ in range(self.num_layer)\n",
        "        ])\n",
        "\n",
        "    def _prop(self, graph, state, layer_idx=0):\n",
        "        # YOUR CODE HERE\n",
        "        # raise NotImplementedError()\n",
        "        # print(f\"state={state.shape}\")\n",
        "        graph.ndata[\"h\"] = state.to(device)\n",
        "        graph.apply_edges(fn.u_sub_v(\"h\", \"h\", \"h_diff\"))\n",
        "        # print(\"mat1=\", self.msg_func[layer_idx](graph.edata[\"h_diff\"]).shape)\n",
        "        # print(\"mat2=\", self.att_head[layer_idx](graph.edata[\"h_diff\"]).shape)\n",
        "        graph.edata[\"s\"] = (\n",
        "            self.msg_func[layer_idx](graph.edata[\"h_diff\"])\n",
        "            *\n",
        "            self.att_head[layer_idx](graph.edata[\"h_diff\"])\n",
        "        )\n",
        "        graph.update_all(fn.copy_e(\"s\", \"m\"), fn.sum(\"m\", \"h_prime\"))\n",
        "        return self.update_func[layer_idx](graph.ndata[\"h_prime\"], state)\n",
        "\n",
        "            \n",
        "\n",
        "    def forward(self, graph, feat):\n",
        "        state = feat\n",
        "        for i in range(self.num_layer):\n",
        "            if i > 0:\n",
        "                state = F.relu(state)\n",
        "            state = self._prop(graph, state, layer_idx=i)\n",
        "        return state\n"
      ],
      "execution_count": 226,
      "outputs": []
    },
    {
      "cell_type": "code",
      "metadata": {
        "deletable": false,
        "editable": false,
        "id": "vTPalmcpN8Ho",
        "nbgrader": {
          "cell_type": "code",
          "checksum": "a05aac68e5635b1617c6f62c88471b5a",
          "grade": true,
          "grade_id": "cell-f96cbf56be9f29b4",
          "locked": true,
          "points": 1,
          "schema_version": 3,
          "solution": false,
          "task": false
        }
      },
      "source": [
        "torch.manual_seed(0)\n",
        "model = RecurrentGNN(node_state_dim=16, hid_dim=128, num_layer=5)\n",
        "graph = dgl.from_networkx(nx.grid_2d_graph(2, 2))\n",
        "feat = torch.ones(4, 16)\n",
        "out = model._prop(graph, feat, layer_idx=0)\n",
        "assert out.shape == (4, 16)\n",
        "test_ans = out.detach().numpy()[0, :3].round(2)\n",
        "assert np.all(np.isclose(test_ans, [0.68, 0.57, 0.29]))\n",
        "out = model._prop(graph, feat, layer_idx=1)\n",
        "test_ans = out.detach().numpy()[0, :3].round(2)\n",
        "assert np.all(np.isclose(test_ans, [0.66, 0.45, 0.72]))"
      ],
      "execution_count": 227,
      "outputs": []
    },
    {
      "cell_type": "markdown",
      "metadata": {
        "id": "JH7DZP0yJlBh"
      },
      "source": [
        "### Task 2. Bernoulli probabilistic model (1 point)"
      ]
    },
    {
      "cell_type": "markdown",
      "metadata": {
        "id": "_wlNUil8cxW2"
      },
      "source": [
        "Next, the generation process is performed as follows: \n",
        "1. Start from a graph with a single node\n",
        "2. Produce parameters of the distributions based on graph\n",
        "3. Add new node to the graph and sample edges from new node using the distributions\n",
        "4. Repeat steps 2-3 to the desired number of nodes\n",
        "\n",
        "<img src='https://raw.githubusercontent.com/netspractice/advanced_gnn/main/assignment_recurrent_generation/gnn_generation.png' width=600>\n",
        "\n",
        "For example, we have the graph with 4 nodes, we produce 4 parameters of 4 independent Bernoulli distributions, and then sample 4 boolean values. Let it be (0, 0, 1, 1), then we connect the new node to the third and fourth nodes. In this assignment, let us use MLP for converting node embeddings into 1-dimensional parameters of Bernoulli distributions.\n",
        "\n",
        "Write a class `BernoulliGNN`. The network takes a graph and node features, propagate them through a recurrent GNN, then through a two-layer MLP and returns parameters of distributions."
      ]
    },
    {
      "cell_type": "code",
      "metadata": {
        "deletable": false,
        "id": "dyzbOQLNuic_",
        "nbgrader": {
          "cell_type": "code",
          "checksum": "63efe4b93c5a1f36cdfca78469a8f7e8",
          "grade": false,
          "grade_id": "cell-78cbc86ac50e4417",
          "locked": false,
          "schema_version": 3,
          "solution": true,
          "task": false
        }
      },
      "source": [
        "class BernoulliGNN(nn.Module):\n",
        "    def __init__(self, in_dim, hid_dim, num_layer):\n",
        "        super().__init__()\n",
        "        # YOUR CODE HERE\n",
        "        # raise NotImplementedError()\n",
        "        self.grnn: RecurrentGNN = RecurrentGNN(\n",
        "            node_state_dim=in_dim, hid_dim=hid_dim, num_layer=num_layer\n",
        "        )\n",
        "        self.mlp = nn.Sequential(\n",
        "            *[\n",
        "                nn.Linear(in_dim, hid_dim),\n",
        "                nn.ReLU(),\n",
        "                nn.Linear(hid_dim, 1),\n",
        "                nn.Sigmoid()\n",
        "            ]\n",
        "        )\n",
        "    def forward(self, graph, feat):\n",
        "        # YOUR CODE HERE\n",
        "        # raise NotImplementedError()\n",
        "        state = self.grnn(graph, feat)\n",
        "        theta = self.mlp(state)\n",
        "        return theta\n"
      ],
      "execution_count": 6,
      "outputs": []
    },
    {
      "cell_type": "code",
      "metadata": {
        "deletable": false,
        "editable": false,
        "id": "M4JsZZbewXnZ",
        "nbgrader": {
          "cell_type": "code",
          "checksum": "35e2efd676afbf918915f0d9f2f3bdcd",
          "grade": true,
          "grade_id": "cell-19da05874c299841",
          "locked": true,
          "points": 0.5,
          "schema_version": 3,
          "solution": false,
          "task": false
        }
      },
      "source": [
        "model = BernoulliGNN(in_dim=16, hid_dim=128, num_layer=5)\n",
        "graph = dgl.from_networkx(nx.grid_2d_graph(2, 2))\n",
        "feat = torch.ones(4, 16)\n",
        "theta = model(graph, feat)\n",
        "assert theta.shape == (4, 1)\n",
        "assert torch.all((0 <= theta) & (theta <= 1))"
      ],
      "execution_count": 7,
      "outputs": []
    },
    {
      "cell_type": "markdown",
      "metadata": {
        "id": "1HftgECj1_UF"
      },
      "source": [
        "Write a function `sample` that takes parameters `theta` and returns realization from corresponding Bernoulli distributions."
      ]
    },
    {
      "cell_type": "code",
      "metadata": {
        "deletable": false,
        "id": "VdLe-OJX0pzU",
        "nbgrader": {
          "cell_type": "code",
          "checksum": "76cc2d227068bd15198656a3da565c5f",
          "grade": false,
          "grade_id": "cell-12156abdd3705a84",
          "locked": false,
          "schema_version": 3,
          "solution": true,
          "task": false
        },
        "colab": {
          "base_uri": "https://localhost:8080/"
        },
        "outputId": "46cf1f7e-dfd2-45c7-a33f-8bbb8da4fcac"
      },
      "source": [
        "def sample(theta):\n",
        "    # YOUR CODE HERE\n",
        "    # raise NotImplementedError()\n",
        "    return torch.greater_equal(theta, torch.rand(size=theta.shape)).long()\n",
        "    # return torch.tensor(\n",
        "    #     [\n",
        "    #         np.random.binomial(size=1, n=1, p=x.item()) for x in theta.unbind()\n",
        "    #     ]\n",
        "    # )\n",
        "# x = torch.tensor([0.5, 0.9, 0.1]) \n",
        "# # (x > torch.rand(size=x.size())).long()\n",
        "# (x > torch.rand(size=x.size())).long()\n",
        "# sample(theta)\n",
        "# torch.rand(size=theta.shape) > "
      ],
      "execution_count": 173,
      "outputs": [
        {
          "output_type": "execute_result",
          "data": {
            "text/plain": [
              "tensor([[1],\n",
              "        [0],\n",
              "        [1],\n",
              "        [1]])"
            ]
          },
          "metadata": {},
          "execution_count": 173
        }
      ]
    },
    {
      "cell_type": "code",
      "metadata": {
        "deletable": false,
        "editable": false,
        "id": "e-clBnH11XBe",
        "nbgrader": {
          "cell_type": "code",
          "checksum": "b05c58abc23f201b03185cb7bd75b275",
          "grade": true,
          "grade_id": "cell-7edae2ecaed11649",
          "locked": true,
          "points": 0.5,
          "schema_version": 3,
          "solution": false,
          "task": false
        }
      },
      "source": [
        "theta = torch.tensor([[0.999], [0.001], [0.999], [0.999]])\n",
        "assert torch.all(sample(theta) == torch.tensor([[1], [0], [1], [1]]))"
      ],
      "execution_count": 174,
      "outputs": []
    },
    {
      "cell_type": "markdown",
      "metadata": {
        "id": "P_zD70dbJ6t8"
      },
      "source": [
        "### Task 3. Generation process (1 point)"
      ]
    },
    {
      "cell_type": "markdown",
      "metadata": {
        "id": "VUODvih43aqW"
      },
      "source": [
        "Let us check what we can generate using an untrained model. Let the node features be one-hot encoded vector with node index. The node features dimension can be larger than the number of nodes, so let it be padded with zeros on the right. For example, 6-dimensional node features in a graph with 4 nodes be:\n",
        "\n",
        "$$F = \\begin{pmatrix}\n",
        "1 & 0 & 0 & 0 & 0 & 0 \\\\\n",
        "0 & 1 & 0 & 0 & 0 & 0 \\\\\n",
        "0 & 0 & 1 & 0 & 0 & 0 \\\\\n",
        "0 & 0 & 0 & 1 & 0 & 0 \\\\\n",
        "\\end{pmatrix}$$\n",
        "\n",
        "\n",
        "Write a function `generate_graph` that takes a model, number of nodes, node features dimension and returns a generated graph and node features. The generated graph is undirected and contains self-loops."
      ]
    },
    {
      "cell_type": "code",
      "metadata": {
        "deletable": false,
        "id": "ygYD-5LF2kop",
        "nbgrader": {
          "cell_type": "code",
          "checksum": "ea91d6bd9dc4072d54676cb84dec7eaf",
          "grade": false,
          "grade_id": "cell-6b5878a6f49ce0c8",
          "locked": false,
          "schema_version": 3,
          "solution": true,
          "task": false
        }
      },
      "source": [
        "def generate_graph(model, n_nodes, feat_dim):\n",
        "    # starting from a graph with a single node\n",
        "    feat = torch.zeros(1, feat_dim).to(device)\n",
        "    feat[0, 0] = 1\n",
        "    graph = dgl.graph(data=([0], [0]))\n",
        "    for i in range(1, n_nodes):\n",
        "        # YOUR CODE HERE\n",
        "        # raise NotImplementedError()\n",
        "        theta = model(graph, feat)\n",
        "        edges_new = sample(theta)\n",
        "        feat_new = torch.zeros(1, feat_dim, dtype=int).to(device)\n",
        "        feat_new[0, i] = 1\n",
        "        graph.add_edges(i,i)\n",
        "        # print(theta, edges_new.squeeze())\n",
        "        graph.add_edges(i, edges_new.squeeze())\n",
        "        graph.add_edges(edges_new.squeeze(), i)\n",
        "        feat = torch.cat((feat, feat_new))\n",
        "    return graph, feat\n"
      ],
      "execution_count": 187,
      "outputs": []
    },
    {
      "cell_type": "code",
      "metadata": {
        "deletable": false,
        "editable": false,
        "id": "S7W9aQD86_QQ",
        "nbgrader": {
          "cell_type": "code",
          "checksum": "0d00e36282739d62b9a3f6c37a9e24dd",
          "grade": true,
          "grade_id": "cell-84b89929d40102cf",
          "locked": true,
          "points": 1,
          "schema_version": 3,
          "solution": false,
          "task": false
        }
      },
      "source": [
        "model = BernoulliGNN(in_dim=16, hid_dim=128, num_layer=5)\n",
        "model = model.to(device)\n",
        "graph, feat = generate_graph(model, n_nodes=16, feat_dim=16)\n",
        "graph, feat = graph.cpu(), feat.cpu()\n",
        "\n",
        "assert graph.number_of_nodes() == 16\n",
        "assert graph.number_of_edges() > 1\n",
        "assert feat.shape == (16, 16)\n",
        "assert torch.all(feat[:3, :3] == torch.tensor([[1, 0, 0], [0, 1, 0], [0, 0, 1]]))\n",
        "adj = graph.adj().to_dense()\n",
        "assert torch.all(adj[range(10), range(10)] == 1)\n",
        "assert torch.all(adj == adj.t())"
      ],
      "execution_count": 188,
      "outputs": []
    },
    {
      "cell_type": "code",
      "metadata": {
        "colab": {
          "base_uri": "https://localhost:8080/",
          "height": 319
        },
        "id": "Hs-UPHzeAkfv",
        "outputId": "4aced846-8ded-48c1-dc37-cf5477a378bd"
      },
      "source": [
        "G = nx.Graph(graph.to_networkx())\n",
        "G.remove_edges_from(nx.selfloop_edges(G))\n",
        "nx.draw_kamada_kawai(G)"
      ],
      "execution_count": 189,
      "outputs": [
        {
          "output_type": "display_data",
          "data": {
            "image/png": "[encoded data removed]",
            "text/plain": [
              "<Figure size 432x288 with 1 Axes>"
            ]
          },
          "metadata": {}
        }
      ]
    },
    {
      "cell_type": "markdown",
      "metadata": {
        "id": "sfP-pzVIKBMm"
      },
      "source": [
        "### Task 4. Negative log likelihood loss (1 point)"
      ]
    },
    {
      "cell_type": "markdown",
      "metadata": {
        "id": "BXpTLlJYDYUv"
      },
      "source": [
        "We aim to train the model so that it can be able to generate realistic networks. Fortunately, explicit parametric models can be optimized by maximim likelihood estimation. In torch, it can be performed by minimization negative log likelihood loss.\n",
        "\n",
        "Write a function `bernoulli_nll` that takes parameters `theta` and a realization `label`, returns the mean negative log likelihood."
      ]
    },
    {
      "cell_type": "code",
      "metadata": {
        "id": "lu3QLSRVLG6H"
      },
      "source": [
        ""
      ],
      "execution_count": 189,
      "outputs": []
    },
    {
      "cell_type": "code",
      "metadata": {
        "deletable": false,
        "id": "kWgOFroxEuEr",
        "nbgrader": {
          "cell_type": "code",
          "checksum": "6a19e6e63b9480f848857b4239a4454e",
          "grade": false,
          "grade_id": "cell-665616c5e24079d5",
          "locked": false,
          "schema_version": 3,
          "solution": true,
          "task": false
        }
      },
      "source": [
        "def bernoulli_nll(theta, label):\n",
        "    # YOUR CODE HERE\n",
        "    # raise NotImplementedError()\n",
        "    return torch.nn.functional.binary_cross_entropy(theta, label)\n",
        "    # result = []\n",
        "    # for i in range(len(theta)):\n",
        "    #     val = theta[i].item()\n",
        "    #     # x = torch.tensor([[1-val, val]], requires_grad=True)\n",
        "    #     x = torch.tensor([val], requires_grad=True)\n",
        "    #     y = torch.tensor([label[i].item()])\n",
        "    #     loss = torch.nn.functional.binary_cross_entropy(x, y)\n",
        "    #     result.append(loss)\n",
        "    # return torch.mean(torch.tensor(result, requires_grad=True))\n",
        "# -torch.log(torch.cat((1 - theta, theta), dim=1))[label.long()]\n",
        "# theta = torch.tensor([[0.999], [0.001], [0.999], [0.999]])\n",
        "# label = torch.tensor([[1.], [0.], [1.], [1.]])\n",
        "# torch.nn.functional.binary_cross_entropy(theta, label)"
      ],
      "execution_count": 190,
      "outputs": []
    },
    {
      "cell_type": "code",
      "metadata": {
        "deletable": false,
        "editable": false,
        "id": "-aE50I3wFGAh",
        "nbgrader": {
          "cell_type": "code",
          "checksum": "4e58488c8b3c265d1fad8cb9c50e296c",
          "grade": true,
          "grade_id": "cell-13bcfd77216f0173",
          "locked": true,
          "points": 1,
          "schema_version": 3,
          "solution": false,
          "task": false
        }
      },
      "source": [
        "theta = torch.tensor([[0.999], [0.001], [0.999], [0.999]])\n",
        "label = torch.tensor([[1.], [0.], [1.], [1.]])\n",
        "loss1 = bernoulli_nll(theta, label)\n",
        "label = torch.tensor([[1.], [0.], [0.], [1.]])\n",
        "loss2 = bernoulli_nll(theta, label)\n",
        "label = torch.tensor([[0.], [1.], [0.], [0.]])\n",
        "loss3 = bernoulli_nll(theta, label)\n",
        "assert loss1 < loss2 < loss3"
      ],
      "execution_count": 191,
      "outputs": []
    },
    {
      "cell_type": "markdown",
      "metadata": {
        "id": "bmhWD19UJKDc"
      },
      "source": [
        "### Task 5. Dataloader for grid subgraphs (1 point)"
      ]
    },
    {
      "cell_type": "markdown",
      "metadata": {
        "id": "tR5WEdfjR5fK"
      },
      "source": [
        "Let us train the model to generate 2d grid graphs, it can be useful for visual verification of the model. The auxiliary function `grid_graphs` generates grid graphs with one-hot encoded node features and returns a list of DGL graphs."
      ]
    },
    {
      "cell_type": "code",
      "metadata": {
        "id": "GPz4ToXKRQwC"
      },
      "source": [
        "def grid_graphs(min_dim, max_dim, n_graphs, feat_dim):\n",
        "    graphs = []\n",
        "    for i in range(n_graphs):\n",
        "        i = np.random.randint(min_dim, max_dim + 1)\n",
        "        j = np.random.randint(min_dim, max_dim + 1)\n",
        "        G = nx.grid_2d_graph(i, j)\n",
        "        graph = dgl.from_networkx(G)\n",
        "        graph = graph.add_self_loop()\n",
        "        feat = torch.eye(graph.number_of_nodes())\n",
        "        feat = F.pad(feat, [0, feat_dim - graph.number_of_nodes(), 0, 0])\n",
        "        graph.ndata['feat'] = feat\n",
        "        graphs.append(graph)\n",
        "    return graphs"
      ],
      "execution_count": 192,
      "outputs": []
    },
    {
      "cell_type": "code",
      "metadata": {
        "id": "o0id9WuwaIGS",
        "colab": {
          "base_uri": "https://localhost:8080/",
          "height": 319
        },
        "outputId": "5167e783-ee58-4551-8890-931123adcf38"
      },
      "source": [
        "nx.draw(grid_graphs(4, 4, 1, 16)[0].to_networkx())"
      ],
      "execution_count": 193,
      "outputs": [
        {
          "output_type": "display_data",
          "data": {
            "image/png": "[encoded data removed]",
            "text/plain": [
              "<Figure size 432x288 with 1 Axes>"
            ]
          },
          "metadata": {}
        }
      ]
    },
    {
      "cell_type": "markdown",
      "metadata": {
        "id": "CHnd6lHaSilc"
      },
      "source": [
        "Next, we need to define the train dataset where graphs are subgraphs from initial grid graphs and labels are next node indicator vectors. For a given graph, the label defines connections to the next node. For example, let the left depicted graph be a subgraph and the next node be 5, then a label be a column-vector `[[0], [0], [1], [1]]`.\n",
        "\n",
        "<img src='https://raw.githubusercontent.com/netspractice/advanced_gnn/main/assignment_recurrent_generation/gnn_generation.png' width=600>\n",
        "\n",
        "Write a function `process` that divides each graph into N subgraphs and prepares N labels where N is the number of nodes minus one. Then it stores all subgraphs and labels into `self.graphs` and `self.labels` lists.\n",
        "\n",
        "For example, the dataset on the single graph with 5 nodes looks like:\n",
        "* subgraph with nodes [0], label for the node 1\n",
        "* subgraph with nodes [0, 1], label for the node 2\n",
        "* subgraph with nodes [0, 1, 2], label for the node 3\n",
        "* subgraph with nodes [0, 1, 2, 3], label for the node 4"
      ]
    },
    {
      "cell_type": "code",
      "metadata": {
        "id": "Btb-jYnjZhjk"
      },
      "source": [
        "# for graph in grid_graphs(\n",
        "#     1, 3, 5, 4\n",
        "# ):\n",
        "#     print(graph)\n",
        "# graph.out_edges(1), graph.in_edges(1)"
      ],
      "execution_count": 194,
      "outputs": []
    },
    {
      "cell_type": "code",
      "metadata": {
        "deletable": false,
        "id": "oPuRv8L-JRJW",
        "nbgrader": {
          "cell_type": "code",
          "checksum": "1a0fb7eca0623c7cf61d9dc417fa6a8e",
          "grade": false,
          "grade_id": "cell-b3e7bca9ea472790",
          "locked": false,
          "schema_version": 3,
          "solution": true,
          "task": false
        }
      },
      "source": [
        "class GridDataset(DGLDataset):\n",
        "    def __init__(self, feat_dim, min_dim, max_dim, n_graphs):\n",
        "        self.feat_dim = feat_dim\n",
        "        self.min_dim = min_dim\n",
        "        self.max_dim = max_dim\n",
        "        self.n_graphs = n_graphs\n",
        "        self.graphs = None\n",
        "        self.labels = None\n",
        "        super().__init__(name='grid')\n",
        "\n",
        "    def process(self):\n",
        "        graphs = []\n",
        "        labels = []\n",
        "        for graph in grid_graphs(\n",
        "            self.min_dim, self.max_dim, self.n_graphs, self.feat_dim\n",
        "        ):\n",
        "            # YOUR CODE HERE\n",
        "            # raise NotImplementedError()\n",
        "            for i in range(1, graph.num_nodes()):\n",
        "                x = list(range(i))\n",
        "                y = i\n",
        "                graphs.append(dgl.node_subgraph(graph, x))\n",
        "                _, neib =  graph.out_edges(i)\n",
        "                label = torch.zeros(size=(i,1))\n",
        "                for node in neib.squeeze().tolist():\n",
        "                    if node < i:\n",
        "                        label[node] = 1\n",
        "                labels.append(label)\n",
        "\n",
        "        self.graphs = graphs\n",
        "        self.labels = labels\n",
        "\n",
        "    def __len__(self):\n",
        "        return len(self.graphs)\n",
        "\n",
        "    def __getitem__(self, idx):\n",
        "        return self.graphs[idx], self.labels[idx]\n"
      ],
      "execution_count": 195,
      "outputs": []
    },
    {
      "cell_type": "code",
      "metadata": {
        "deletable": false,
        "editable": false,
        "id": "xwOcZmgNOyIi",
        "nbgrader": {
          "cell_type": "code",
          "checksum": "a7dadf7d8dd7e3e1b441b07a1a06fd1d",
          "grade": true,
          "grade_id": "cell-4d8cfd7ec97e1ec3",
          "locked": true,
          "points": 1,
          "schema_version": 3,
          "solution": false,
          "task": false
        }
      },
      "source": [
        "feat_dim = 40\n",
        "min_dim = 3\n",
        "max_dim = 6\n",
        "n_graphs = 100\n",
        "grid_dataset = GridDataset(feat_dim, min_dim, max_dim, n_graphs)\n",
        "assert n_graphs < len(grid_dataset) < n_graphs * max_dim**2\n",
        "n_nodes = torch.tensor([g.number_of_nodes() for g, l in grid_dataset])\n",
        "assert n_nodes.min() == 1\n",
        "assert n_nodes.max() == max_dim**2 - 1\n",
        "g, l = grid_dataset[1]\n",
        "assert l.shape == (2, 1)\n",
        "g, l = grid_dataset[2]\n",
        "assert l.shape == (3, 1)\n",
        "assert np.all([g.number_of_nodes() == l.shape[0] for g, l in grid_dataset])"
      ],
      "execution_count": 196,
      "outputs": []
    },
    {
      "cell_type": "code",
      "metadata": {
        "id": "O3RbUadc2Uvl",
        "colab": {
          "base_uri": "https://localhost:8080/"
        },
        "outputId": "830f65e9-c509-4c6e-f86e-56b375317a2e"
      },
      "source": [
        "len(grid_dataset)"
      ],
      "execution_count": 197,
      "outputs": [
        {
          "output_type": "execute_result",
          "data": {
            "text/plain": [
              "1889"
            ]
          },
          "metadata": {},
          "execution_count": 197
        }
      ]
    },
    {
      "cell_type": "markdown",
      "metadata": {
        "id": "1A9SUjIJX1kM"
      },
      "source": [
        "Finally, create a train dataloader."
      ]
    },
    {
      "cell_type": "code",
      "metadata": {
        "id": "fpWefrbPX8Pw",
        "colab": {
          "base_uri": "https://localhost:8080/"
        },
        "outputId": "8b8c7c74-8a8b-4bf8-82f6-5596d060d62b"
      },
      "source": [
        "def collate(sample):\n",
        "    graphs, labels = map(list, zip(*sample))\n",
        "    graph = dgl.batch(graphs)\n",
        "    labels = torch.cat(labels)\n",
        "    return graph, labels\n",
        "\n",
        "grid_dataset = GridDataset(feat_dim=40, min_dim=4, max_dim=6, n_graphs=20)\n",
        "dataloader = DataLoader(\n",
        "    grid_dataset, batch_size=128, collate_fn=collate, shuffle=True)\n",
        "\n",
        "for g, l in dataloader:\n",
        "    break\n",
        "len(dataloader), g.batch_num_nodes(), g.number_of_nodes(), l.shape"
      ],
      "execution_count": 198,
      "outputs": [
        {
          "output_type": "execute_result",
          "data": {
            "text/plain": [
              "(4,\n",
              " tensor([20, 17, 24, 21,  2, 20, 16,  2, 20, 20,  1, 16, 15,  9,  9, 10, 15, 21,\n",
              "          9, 19, 17, 20,  9, 10,  9, 13, 18, 27, 14, 11, 16,  3,  5, 15, 27, 15,\n",
              "         18, 12,  1,  9, 15, 30, 12, 27, 12, 13, 20, 10, 12, 12,  9, 24, 11, 10,\n",
              "          5,  9, 16, 18, 17, 28,  6, 23, 23,  8, 13,  1, 17, 21, 18, 23,  9,  3,\n",
              "          3,  8,  3, 29,  6, 12, 12, 24, 32,  3, 22, 21, 20, 22, 16, 17, 10, 13,\n",
              "         24,  2, 22, 14,  2, 29, 12, 16,  3, 11, 10, 20,  4, 12, 26,  7, 18, 12,\n",
              "          4, 12,  9, 13, 19, 26, 22,  3,  2, 11,  4,  5,  4, 13, 15, 28,  1, 22,\n",
              "         21,  6]),\n",
              " 1787,\n",
              " torch.Size([1787, 1]))"
            ]
          },
          "metadata": {},
          "execution_count": 198
        }
      ]
    },
    {
      "cell_type": "markdown",
      "metadata": {
        "id": "gzxwPlhzKRDd"
      },
      "source": [
        "### Task 6. Mini-batch training process (1 point)"
      ]
    },
    {
      "cell_type": "markdown",
      "metadata": {
        "id": "BOhFRa8pdbgu"
      },
      "source": [
        "Write a finction `train`. Here is a simple training process: calculate the NLL loss and make an optimization step."
      ]
    },
    {
      "cell_type": "code",
      "metadata": {
        "deletable": false,
        "id": "CZMjgePUXr7y",
        "nbgrader": {
          "cell_type": "code",
          "checksum": "ff33820231b18f0ca7fbf3a2b0776149",
          "grade": false,
          "grade_id": "cell-aede22655bc62312",
          "locked": false,
          "schema_version": 3,
          "solution": true,
          "task": false
        }
      },
      "source": [
        "# loss_fn = torch.nn.NLLLoss()\n",
        "\n",
        "def train(model, dataloader, opt):\n",
        "    model.train()\n",
        "    loss_values = []\n",
        "    for graph, label in dataloader:\n",
        "        # YOUR CODE HERE\n",
        "        # raise NotImplementedError()\n",
        "        feat = torch.ones(graph.num_nodes(), 40).to(device)\n",
        "        theta = model(graph, feat).to(device)\n",
        "        loss_value = bernoulli_nll(theta, label)\n",
        "        opt.zero_grad()\n",
        "        loss_value.backward()\n",
        "        opt.step()\n",
        "        # torch.nn.functional.nll_loss(input=theta, target=label)\n",
        "        # print(theta, label, loss_value)\n",
        "        # loss_value = torch.stack(\n",
        "        #     [\n",
        "        #         loss_fn(torch.cat((1-x, x)), \n",
        "        #     ]\n",
        "        # )\n",
        "        # loss_value = bernoulli_nll(theta, label)\n",
        "        # print(theta.item, label, loss_value)\n",
        "        # loss_value = (theta - label).sum()\n",
        "        # loss_fn(theta.to(device), label.to(device))\n",
        "        # loss = torch.autograd.Variable(loss_value, requires_grad=True).to(device)\n",
        "        loss_values.append(loss_value.item())\n",
        "    # loss = torch.mean(torch.tensor(loss_values, requires_grad=True))\n",
        "    # opt.zero_grad()\n",
        "    # loss.backward()\n",
        "    # opt.step()\n",
        "    # loss = torch.mean(loss_values)\n",
        "    return sum(loss_values) / len(loss_values)\n",
        "\n",
        "# graph, feat = generate_graph(model, n_nodes=16, feat_dim=40)\n",
        "# G = nx.Graph(graph.cpu().to_networkx())\n",
        "# # G.remove_edges_from(nx.selfloop_edges(G))\n",
        "# nx.draw_kamada_kawai(G, node_size=30)"
      ],
      "execution_count": 228,
      "outputs": []
    },
    {
      "cell_type": "code",
      "metadata": {
        "id": "oi9i-m3Ob3Yz"
      },
      "source": [
        "model = BernoulliGNN(in_dim=40, hid_dim=128, num_layer=5)\n",
        "model.to(device);"
      ],
      "execution_count": 229,
      "outputs": []
    },
    {
      "cell_type": "markdown",
      "metadata": {
        "id": "KDBOslTKEm8y"
      },
      "source": [
        "The training process takes about 10 minutes in Colab on CPU and about a minute in Colab on GPU."
      ]
    },
    {
      "cell_type": "code",
      "metadata": {
        "id": "3mx7Sbuzbze7",
        "colab": {
          "base_uri": "https://localhost:8080/",
          "height": 455,
          "referenced_widgets": [
            "d92b829983534fb4b3e7a9920c896d68",
            "af3011d1fefe4a7888e9e83c54eef9a4",
            "39bd026bc2b74f979f4ae109c4294ca9",
            "a56f33047ae742b9b2158813b7086d4e",
            "fa0ea52fd2ee4c83a40f9c1863dad83c",
            "3f1307616a474cd0867882a2b52eace4",
            "a6fa3e4919794e198fded8feb134cb54",
            "9b6d74d988b0442b8bf40d861226ac28",
            "d829cb907ac54c86ad43ebb3db0dee51",
            "73092834eb2340e38c1fbacec6a0b312",
            "f8446bd8175e4a568c11d7228b9577f5"
          ]
        },
        "outputId": "2e938098-82d4-4d2c-f09f-32ea527cdec3"
      },
      "source": [
        "opt = Adam(model.parameters(), lr=0.0005)\n",
        "\n",
        "n_epochs = 500\n",
        "for e in trange(n_epochs):\n",
        "    loss = train(model, dataloader, opt)\n",
        "    if e % 50 == 0 or e+1 == n_epochs:\n",
        "        print(f'Epoch: {e+1}/{n_epochs}, NLL loss: {loss:.4f}')\n",
        "        plt.figure(figsize=(2,2))\n",
        "        graph, feat = generate_graph(model, n_nodes=16, feat_dim=40)\n",
        "        G = nx.Graph(graph.cpu().to_networkx())\n",
        "        G.remove_edges_from(nx.selfloop_edges(G))\n",
        "        nx.draw_kamada_kawai(G, node_size=30)\n",
        "        plt.show()"
      ],
      "execution_count": null,
      "outputs": [
        {
          "output_type": "display_data",
          "data": {
            "application/vnd.jupyter.widget-view+json": {
              "model_id": "d92b829983534fb4b3e7a9920c896d68",
              "version_minor": 0,
              "version_major": 2
            },
            "text/plain": [
              "  0%|          | 0/500 [00:00<?, ?it/s]"
            ]
          },
          "metadata": {}
        },
        {
          "output_type": "stream",
          "name": "stderr",
          "text": [
            "/usr/local/lib/python3.7/dist-packages/torch/autocast_mode.py:141: UserWarning: User provided device_type of 'cuda', but CUDA is not available. Disabling\n",
            "  warnings.warn('User provided device_type of \\'cuda\\', but CUDA is not available. Disabling')\n"
          ]
        },
        {
          "output_type": "stream",
          "name": "stdout",
          "text": [
            "Epoch: 1/500, NLL loss: 0.7333\n"
          ]
        },
        {
          "output_type": "display_data",
          "data": {
            "image/png": "[encoded data removed]",
            "text/plain": [
              "<Figure size 144x144 with 1 Axes>"
            ]
          },
          "metadata": {}
        },
        {
          "output_type": "stream",
          "name": "stdout",
          "text": [
            "Epoch: 51/500, NLL loss: 0.1086\n"
          ]
        },
        {
          "output_type": "display_data",
          "data": {
            "image/png": "[encoded data removed]",
            "text/plain": [
              "<Figure size 144x144 with 1 Axes>"
            ]
          },
          "metadata": {}
        }
      ]
    },
    {
      "cell_type": "code",
      "metadata": {
        "colab": {
          "base_uri": "https://localhost:8080/"
        },
        "id": "fs80rHesxVLN",
        "outputId": "d914521a-bc6e-49d0-d1a3-f764929682da"
      },
      "source": [
        "# graph.ndata[\"h\"].shape"
      ],
      "execution_count": 215,
      "outputs": [
        {
          "output_type": "execute_result",
          "data": {
            "text/plain": [
              "torch.Size([4, 16])"
            ]
          },
          "metadata": {},
          "execution_count": 215
        }
      ]
    },
    {
      "cell_type": "markdown",
      "metadata": {
        "id": "UjCmLbdUfm8y"
      },
      "source": [
        "Let us generate a few graphs from the model. They should be visually close to grid graphs."
      ]
    },
    {
      "cell_type": "code",
      "metadata": {
        "id": "Nr0YNFrfd6MG",
        "colab": {
          "base_uri": "https://localhost:8080/",
          "height": 575
        },
        "outputId": "7a1d9fee-4782-4f1e-dba0-158d134c1c8c"
      },
      "source": [
        "plt.figure(figsize=(10, 10))\n",
        "for j in range(9):\n",
        "    plt.subplot(3, 3, j+1)\n",
        "    graph, feat = generate_graph(model, n_nodes=18, feat_dim=40)\n",
        "    G = nx.Graph(graph.cpu().to_networkx())\n",
        "    G.remove_edges_from(nx.selfloop_edges(G))\n",
        "    nx.draw_kamada_kawai(G, node_size=30)"
      ],
      "execution_count": 26,
      "outputs": [
        {
          "output_type": "display_data",
          "data": {
            "image/png": "[encoded data removed]",
            "text/plain": [
              "<Figure size 720x720 with 9 Axes>"
            ]
          },
          "metadata": {}
        }
      ]
    },
    {
      "cell_type": "markdown",
      "metadata": {
        "id": "k9XM2KeVFP2y"
      },
      "source": [
        "The next cell checks that at least one graph in a sample is close to a grid. It is possible with approximately 0.05 NLL loss. Note that all hyperparameters can be modified to achive the desired result."
      ]
    },
    {
      "cell_type": "code",
      "metadata": {
        "deletable": false,
        "editable": false,
        "id": "Z62onlA8-Zlz",
        "nbgrader": {
          "cell_type": "code",
          "checksum": "a8ae0bd79f30ef64f82cb46f2f01757e",
          "grade": true,
          "grade_id": "cell-813411b980a8355d",
          "locked": true,
          "points": 1,
          "schema_version": 3,
          "solution": false,
          "task": false
        },
        "colab": {
          "base_uri": "https://localhost:8080/",
          "height": 218
        },
        "outputId": "cf06a703-e035-43aa-ffed-9b8bb1da6b48"
      },
      "source": [
        "close_to_grid = False\n",
        "for i in range(20):\n",
        "    graph, feat = generate_graph(model, n_nodes=18, feat_dim=40)\n",
        "    G = nx.Graph(graph.cpu().to_networkx())\n",
        "    G.remove_edges_from(nx.selfloop_edges(G))\n",
        "    hist = nx.degree_histogram(G)\n",
        "    correct_degrees = sum(hist[2:5])\n",
        "    incorrec_degrees = sum(hist) - correct_degrees\n",
        "    close_to_grid = nx.is_connected(G) and correct_degrees > 0 and incorrec_degrees == 0\n",
        "    if close_to_grid: break\n",
        "assert close_to_grid"
      ],
      "execution_count": 27,
      "outputs": [
        {
          "output_type": "error",
          "ename": "AssertionError",
          "evalue": "ignored",
          "traceback": [
            "\u001b[0;31m---------------------------------------------------------------------------\u001b[0m",
            "\u001b[0;31mAssertionError\u001b[0m                            Traceback (most recent call last)",
            "\u001b[0;32m<ipython-input-27-2a7811b1bafd>\u001b[0m in \u001b[0;36m<module>\u001b[0;34m()\u001b[0m\n\u001b[1;32m      9\u001b[0m     \u001b[0mclose_to_grid\u001b[0m \u001b[0;34m=\u001b[0m \u001b[0mnx\u001b[0m\u001b[0;34m.\u001b[0m\u001b[0mis_connected\u001b[0m\u001b[0;34m(\u001b[0m\u001b[0mG\u001b[0m\u001b[0;34m)\u001b[0m \u001b[0;32mand\u001b[0m \u001b[0mcorrect_degrees\u001b[0m \u001b[0;34m>\u001b[0m \u001b[0;36m0\u001b[0m \u001b[0;32mand\u001b[0m \u001b[0mincorrec_degrees\u001b[0m \u001b[0;34m==\u001b[0m \u001b[0;36m0\u001b[0m\u001b[0;34m\u001b[0m\u001b[0;34m\u001b[0m\u001b[0m\n\u001b[1;32m     10\u001b[0m     \u001b[0;32mif\u001b[0m \u001b[0mclose_to_grid\u001b[0m\u001b[0;34m:\u001b[0m \u001b[0;32mbreak\u001b[0m\u001b[0;34m\u001b[0m\u001b[0;34m\u001b[0m\u001b[0m\n\u001b[0;32m---> 11\u001b[0;31m \u001b[0;32massert\u001b[0m \u001b[0mclose_to_grid\u001b[0m\u001b[0;34m\u001b[0m\u001b[0;34m\u001b[0m\u001b[0m\n\u001b[0m",
            "\u001b[0;31mAssertionError\u001b[0m: "
          ]
        }
      ]
    },
    {
      "cell_type": "markdown",
      "metadata": {
        "id": "Hb7STTQcKTkn"
      },
      "source": [
        "### Task 7. Kolmogorov Smirnov distance score (1 point)"
      ]
    },
    {
      "cell_type": "markdown",
      "metadata": {
        "id": "xclX7ql4IFkm"
      },
      "source": [
        "Let us check the model on real graphs. Let a quality metric be the closeness of generated graphs to real graphs. We will compute the sum of KS distances between distributions of statistics: clustering coefficients, laplacian spectrum values, node degrees.\n",
        "\n",
        "Write a function `ks_score` that takes a list of real graphs, a list of generated (fake) graphs and computes the sum of KS distances. The input graphs are DGL graphs.\n",
        "\n",
        "*Hint: use `ks_2samp`*"
      ]
    },
    {
      "cell_type": "code",
      "metadata": {
        "deletable": false,
        "id": "eU4q388qJIWy",
        "nbgrader": {
          "cell_type": "code",
          "checksum": "0608bea7f905363a81aef70210ed3d14",
          "grade": false,
          "grade_id": "cell-d8723c0c56e00f6b",
          "locked": false,
          "schema_version": 3,
          "solution": true,
          "task": false
        }
      },
      "source": [
        "def ks_score(fake_graphs, real_graphs):\n",
        "    real_graphs = [nx.Graph(g.to_networkx()) for g in real_graphs]\n",
        "    fake_graphs = [nx.Graph(g.to_networkx()) for g in fake_graphs]\n",
        "    # YOUR CODE HERE\n",
        "    # raise NotImplementedError()\n",
        "    ks_sum = 0\n",
        "    for a, b in zip(real_graphs, fake_graphs):\n",
        "        ks1 = ks_2samp(\n",
        "            list(nx.clustering(a).values()),\n",
        "            list(nx.clustering(b).values())\n",
        "        )[0]\n",
        "        ks2 = ks_2samp(\n",
        "            list(nx.linalg.spectrum.laplacian_spectrum(a)),\n",
        "            list(nx.linalg.spectrum.laplacian_spectrum(b))\n",
        "        )[0]\n",
        "        ks3 = ks_2samp(\n",
        "            [val for (node, val) in a.degree()],\n",
        "            [val for (node, val) in b.degree()]\n",
        "        )[0]\n",
        "        ks_sum += ks1 + ks2 + ks3\n",
        "    return ks_sum\n"
      ],
      "execution_count": 28,
      "outputs": []
    },
    {
      "cell_type": "code",
      "metadata": {
        "deletable": false,
        "editable": false,
        "id": "f9Ykr3VeMMAh",
        "nbgrader": {
          "cell_type": "code",
          "checksum": "1891cc974ea64bbd451a9fa54e10849e",
          "grade": true,
          "grade_id": "cell-7b55deea59c3e597",
          "locked": true,
          "points": 1,
          "schema_version": 3,
          "solution": false,
          "task": false
        }
      },
      "source": [
        "rand_graph = dgl.from_networkx(nx.erdos_renyi_graph(10, 30))\n",
        "grid55_graph = dgl.from_networkx(nx.grid_2d_graph(5, 5))\n",
        "grid44_graph = dgl.from_networkx(nx.grid_2d_graph(4, 4))\n",
        "score = ks_score([rand_graph], [grid55_graph])\n",
        "assert score == 2.9\n",
        "score = ks_score([grid55_graph], [grid55_graph])\n",
        "assert score == 0\n",
        "score = ks_score([grid55_graph], [grid44_graph])\n",
        "assert score == 0.29"
      ],
      "execution_count": 29,
      "outputs": []
    },
    {
      "cell_type": "markdown",
      "metadata": {
        "id": "QEh-lDbvKal0"
      },
      "source": [
        "### Task 8. DFS from top degree node ordering (1 point)"
      ]
    },
    {
      "cell_type": "markdown",
      "metadata": {
        "id": "DFKB33uORf8H"
      },
      "source": [
        "So far, we have tested our model on grid graphs that have predefined node ordering. It helps us to train the model, but real networks are arbitrary ordered and so we need to select certain node ordering to train the model. There are many approaches: node degree, DFS/BFS from top node degree, k-core decomposition and so on. In this assignment, let us select DFS from top degree node.\n",
        "\n",
        "Write a function `dfs_ordering` that takes a DGL graph and returns a tensor (array) of nodes where the first node is the top degree node and others are ordered by DFS from the top degree node. We assume that the graph has a single connected component."
      ]
    },
    {
      "cell_type": "code",
      "metadata": {
        "id": "Lejb5pZ-Wll0"
      },
      "source": [
        "# lst = [1,2,3]\n",
        "# lst - [2]\n",
        "# lst"
      ],
      "execution_count": 30,
      "outputs": []
    },
    {
      "cell_type": "code",
      "metadata": {
        "deletable": false,
        "id": "TNN1F4QrQ8yz",
        "nbgrader": {
          "cell_type": "code",
          "checksum": "3c75ec5edab02e2e45a93842c292f4e8",
          "grade": false,
          "grade_id": "cell-c24c188e39a9e24e",
          "locked": false,
          "schema_version": 3,
          "solution": true,
          "task": false
        }
      },
      "source": [
        "def dfs_ordering(graph):\n",
        "    # YOUR CODE HERE\n",
        "    # raise NotImplementedError()\n",
        "    top_node = max(graph.to_networkx().degree, key=lambda x: x[1])[0]\n",
        "    return np.array(\n",
        "        [top_node] + [\n",
        "            x for x in\n",
        "            nx.dfs_preorder_nodes(\n",
        "                graph.to_networkx(), source=top_node\n",
        "            )\n",
        "            if x != top_node\n",
        "        ]       \n",
        "    )\n",
        "\n",
        "\n",
        "# G = nx.complete_graph(5)\n",
        "# G.add_edges_from([[0, -1], [-1, -2], [-2, -3]])\n",
        "# graph = dgl.from_networkx(G)  \n",
        "# top_node = max(graph.to_networkx().degree, key=lambda x: x[1])[0]\n",
        "# list(\n",
        "#     nx.dfs_postorder_nodes(\n",
        "#         graph.to_networkx(), source=top_node\n",
        "#     )\n",
        "# )\n",
        "# adj[ord, :][:, ord][0], ord, top_node\n",
        "# adj[ord, :]\n",
        "# adj[ord, :][:, ord][0]\n",
        "# graph.to_networkx().degree\n",
        "# ord"
      ],
      "execution_count": 31,
      "outputs": []
    },
    {
      "cell_type": "code",
      "metadata": {
        "deletable": false,
        "editable": false,
        "id": "4-8IgqMrY1XW",
        "nbgrader": {
          "cell_type": "code",
          "checksum": "69aa256f00298cae5c942bfec091eb96",
          "grade": true,
          "grade_id": "cell-7bdc780eae68d288",
          "locked": true,
          "points": 1,
          "schema_version": 3,
          "solution": false,
          "task": false
        }
      },
      "source": [
        "G = nx.complete_graph(5)\n",
        "G.add_edges_from([[0, -1], [-1, -2], [-2, -3]])\n",
        "graph = dgl.from_networkx(G)\n",
        "ord = dfs_ordering(graph)\n",
        "assert ord.shape == (8, )\n",
        "adj = graph.adj().to_dense()\n",
        "assert torch.all(adj[ord, :][:, ord][0] == torch.tensor([0, 1, 1, 1, 1, 1, 0, 0]))"
      ],
      "execution_count": 32,
      "outputs": []
    },
    {
      "cell_type": "markdown",
      "metadata": {
        "id": "W9CplsJh1WHZ"
      },
      "source": [
        "### Task 9. Erdos-Renyi model baseline (1 point)"
      ]
    },
    {
      "cell_type": "markdown",
      "metadata": {
        "id": "9lEPnxH8amSq"
      },
      "source": [
        "Create a simple baseline — Erdos-Renyi model.\n",
        "\n",
        "Write a function `fit` that takes a list of DGL graphs and estimates the parameter $p$ of Erdos-Renyi model.\n",
        "\n",
        "Write a function `sample` that generates an Erdos-Renyi graph with parameter $n$ and $p$. The output graph is DGL graph."
      ]
    },
    {
      "cell_type": "code",
      "metadata": {
        "deletable": false,
        "id": "88mItcukat-h",
        "nbgrader": {
          "cell_type": "code",
          "checksum": "14edba2e1548bd747278a6516e8484fe",
          "grade": false,
          "grade_id": "cell-e3efcb51cf9a0df1",
          "locked": false,
          "schema_version": 3,
          "solution": true,
          "task": false
        }
      },
      "source": [
        "class ErdosRenyi():\n",
        "    def __init__(self):\n",
        "        self.p = None\n",
        "    def fit(self, graphs):\n",
        "        # YOUR CODE HERE\n",
        "        # raise NotImplementedError()\n",
        "        probs = []\n",
        "        for g in graphs:\n",
        "            # g = graphs[0]\n",
        "            m = g.num_edges()\n",
        "            n = g.num_nodes()**2\n",
        "            p = m/n\n",
        "            probs.append(p)\n",
        "        self.p = np.mean(probs)\n",
        "\n",
        "    def sample(self, n):\n",
        "        # YOUR CODE HERE\n",
        "        # raise NotImplementedError()\n",
        "        return dgl.from_networkx(\n",
        "            nx.erdos_renyi_graph(n=n, p=self.p, directed=True)\n",
        "        )\n"
      ],
      "execution_count": 91,
      "outputs": []
    },
    {
      "cell_type": "code",
      "metadata": {
        "deletable": false,
        "editable": false,
        "id": "DNPCTT-WdSo6",
        "nbgrader": {
          "cell_type": "code",
          "checksum": "c186f05ac1bdbfda3cc4ed6f27f6ae05",
          "grade": true,
          "grade_id": "cell-f5b166faa5bb98cc",
          "locked": true,
          "points": 1,
          "schema_version": 3,
          "solution": false,
          "task": false
        }
      },
      "source": [
        "graphs = [dgl.rand_graph(10, 50), dgl.rand_graph(20, 100)]\n",
        "er_model = ErdosRenyi()\n",
        "er_model.fit(graphs)\n",
        "assert er_model.p == (0.5 + 0.25) / 2\n",
        "er_graph = er_model.sample(10)\n",
        "assert 24 < er_graph.number_of_edges() < 51"
      ],
      "execution_count": 92,
      "outputs": []
    },
    {
      "cell_type": "markdown",
      "metadata": {
        "id": "NOcKFjbhZ0Z3"
      },
      "source": [
        "### Task 10. Results on protein dataset (1 point)"
      ]
    },
    {
      "cell_type": "code",
      "metadata": {
        "id": "0twLTGjQInM3",
        "colab": {
          "base_uri": "https://localhost:8080/"
        },
        "outputId": "96533bf7-7fa7-431a-e7f4-75ff8f753c16"
      },
      "source": [
        "proteins_dataset = GINDataset('PROTEINS', self_loop=True)\n",
        "len(proteins_dataset)"
      ],
      "execution_count": 93,
      "outputs": [
        {
          "output_type": "stream",
          "name": "stdout",
          "text": [
            "Downloading /root/.dgl/GINDataset.zip from https://raw.githubusercontent.com/weihua916/powerful-gnns/master/dataset.zip...\n",
            "Extracting file to /root/.dgl/GINDataset\n"
          ]
        },
        {
          "output_type": "execute_result",
          "data": {
            "text/plain": [
              "1113"
            ]
          },
          "metadata": {},
          "execution_count": 93
        }
      ]
    },
    {
      "cell_type": "markdown",
      "metadata": {
        "id": "eVL1rDaxRf9G"
      },
      "source": [
        "Let us test our model on proteins dataset. We will only learn small graphs for simplicity. Also we drops graph with multiple connected components."
      ]
    },
    {
      "cell_type": "code",
      "metadata": {
        "id": "zzzJthVoRrRq",
        "colab": {
          "base_uri": "https://localhost:8080/"
        },
        "outputId": "d57666d8-0eaa-44ac-9cb1-99fe68685faa"
      },
      "source": [
        "proteins_dataset = GINDataset('PROTEINS', self_loop=True)\n",
        "small_graphs_idx = []\n",
        "for i in range(len(proteins_dataset)):\n",
        "    graph = proteins_dataset.graphs[i]\n",
        "    if graph.number_of_nodes() <= 40:\n",
        "        n_nodes = len(torch.cat(dgl.bfs_nodes_generator(graph, 0)))\n",
        "        if graph.number_of_nodes() == n_nodes:\n",
        "            small_graphs_idx.append(i)\n",
        "proteins_dataset = Subset(proteins_dataset, small_graphs_idx)\n",
        "len(proteins_dataset)"
      ],
      "execution_count": 94,
      "outputs": [
        {
          "output_type": "execute_result",
          "data": {
            "text/plain": [
              "777"
            ]
          },
          "metadata": {},
          "execution_count": 94
        }
      ]
    },
    {
      "cell_type": "markdown",
      "metadata": {
        "id": "tMzw6REzWOOU"
      },
      "source": [
        "Let us split the dataset into a train and test sets. We will use the train set to train the model and use the test set to calculate KS distance score between real and fake graphs. Let the train ratio be approximately 0.3."
      ]
    },
    {
      "cell_type": "code",
      "metadata": {
        "id": "fRCXsHQrWN6P",
        "colab": {
          "base_uri": "https://localhost:8080/"
        },
        "outputId": "8c5106a6-560a-4fd1-dfb8-f2077233ea61"
      },
      "source": [
        "torch.manual_seed(0)\n",
        "train_mask = torch.rand(len(proteins_dataset)) < 0.3\n",
        "train_idx = torch.where(train_mask)[0]\n",
        "train_proteins_set = Subset(proteins_dataset, train_idx)\n",
        "test_idx = torch.where(~train_mask)[0]\n",
        "test_proteins_set = Subset(proteins_dataset, test_idx)\n",
        "len(train_proteins_set), len(test_proteins_set)"
      ],
      "execution_count": 95,
      "outputs": [
        {
          "output_type": "execute_result",
          "data": {
            "text/plain": [
              "(244, 533)"
            ]
          },
          "metadata": {},
          "execution_count": 95
        }
      ]
    },
    {
      "cell_type": "markdown",
      "metadata": {
        "id": "SZp9wApVZSZ9"
      },
      "source": [
        "Check that train and test are close with respect to KS distanse score."
      ]
    },
    {
      "cell_type": "code",
      "metadata": {
        "id": "-KlTNG8cYvFa",
        "colab": {
          "base_uri": "https://localhost:8080/"
        },
        "outputId": "c6f91cca-f2c3-4fcf-de32-cc939e2f0bdb"
      },
      "source": [
        "_train = [g for g, l in train_proteins_set]\n",
        "_test = [g for g, l in test_proteins_set]\n",
        "print(f'KS score: {ks_score(_train, _test):.4f}')"
      ],
      "execution_count": 96,
      "outputs": [
        {
          "output_type": "stream",
          "name": "stdout",
          "text": [
            "KS score: 226.0267\n"
          ]
        }
      ]
    },
    {
      "cell_type": "markdown",
      "metadata": {
        "id": "rwEYr5NDUo3r"
      },
      "source": [
        "Also we want to learn distribution of number of nodes to generate graphs with different number of nodes."
      ]
    },
    {
      "cell_type": "code",
      "metadata": {
        "id": "QgkG7eHtU-Js"
      },
      "source": [
        "n_nodes_seq = [g.number_of_nodes() for g, l in proteins_dataset]\n",
        "plt.hist(n_nodes_seq);"
      ],
      "execution_count": null,
      "outputs": []
    },
    {
      "cell_type": "markdown",
      "metadata": {
        "id": "6JfKP2KRegHP"
      },
      "source": [
        "Generate graphs from Erdos Renyi model."
      ]
    },
    {
      "cell_type": "code",
      "metadata": {
        "id": "qXIVxLkDeEsG"
      },
      "source": [
        "fake_graphs = [er_model.sample(np.random.choice(n_nodes_seq)) for _ in range(100)]\n",
        "print(f'KS score: {ks_score(fake_graphs, _test):.4f}')"
      ],
      "execution_count": null,
      "outputs": []
    },
    {
      "cell_type": "markdown",
      "metadata": {
        "id": "-dTD-uVPfINL"
      },
      "source": [
        "Next, prepare the dataset for the GNN model (similar to the grid dataset)."
      ]
    },
    {
      "cell_type": "code",
      "metadata": {
        "deletable": false,
        "id": "mC_X5eI4ZgbS",
        "nbgrader": {
          "cell_type": "code",
          "checksum": "2564a0924815d158fbdc35416b822b65",
          "grade": false,
          "grade_id": "cell-51eceb95af25cc05",
          "locked": false,
          "schema_version": 3,
          "solution": true,
          "task": false
        }
      },
      "source": [
        "class GraphDataset(DGLDataset):\n",
        "    def __init__(self, initial_set, feat_dim):\n",
        "        self.initial_set = initial_set\n",
        "        self.feat_dim = feat_dim\n",
        "        self.graphs = None\n",
        "        self.labels = None\n",
        "        super().__init__(name='grid')\n",
        "\n",
        "    def process(self):\n",
        "        graphs = []\n",
        "        labels = []\n",
        "        for graph in self.initial_set:\n",
        "            ord = dfs_ordering(graph)\n",
        "            graph = dgl.reorder_graph(\n",
        "                graph, 'custom', permute_config={'nodes_perm':ord})\n",
        "            feat = torch.eye(graph.number_of_nodes())\n",
        "            feat = F.pad(feat, [0, self.feat_dim - graph.number_of_nodes(), 0, 0])\n",
        "            graph.ndata['feat'] = feat\n",
        "            # YOUR CODE HERE\n",
        "            raise NotImplementedError()\n",
        "        self.graphs = graphs\n",
        "        self.labels = labels\n",
        "\n",
        "    def __len__(self):\n",
        "        return len(self.graphs)\n",
        "\n",
        "    def __getitem__(self, idx):\n",
        "        return self.graphs[idx], self.labels[idx]"
      ],
      "execution_count": null,
      "outputs": []
    },
    {
      "cell_type": "code",
      "metadata": {
        "deletable": false,
        "editable": false,
        "id": "XHkJ67AugVN_",
        "nbgrader": {
          "cell_type": "code",
          "checksum": "f0eea3ab6be0cd0af01319c5b6aed3a2",
          "grade": true,
          "grade_id": "cell-ffcc8a2e777c3b83",
          "locked": true,
          "points": 0,
          "schema_version": 3,
          "solution": false,
          "task": false
        }
      },
      "source": [
        "graph_dataset = GraphDataset(_train, feat_dim=40)\n",
        "assert len(graph_dataset) == 4701"
      ],
      "execution_count": null,
      "outputs": []
    },
    {
      "cell_type": "code",
      "metadata": {
        "id": "t7WRfPqig9go"
      },
      "source": [
        "dataloader = DataLoader(\n",
        "    graph_dataset, batch_size=512, collate_fn=collate, shuffle=True)\n",
        "len(dataloader)"
      ],
      "execution_count": null,
      "outputs": []
    },
    {
      "cell_type": "markdown",
      "metadata": {
        "id": "4UJcfWAHg32Z"
      },
      "source": [
        "Train the model. To pass time limits, load the model parameters using loading Torch interface: https://pytorch.org/tutorials/beginner/saving_loading_models.html. There is also a way to speed the training process using iterations over blocks of nodes (details are in [Liao et al., 2019](https://arxiv.org/pdf/1910.00760.pdf)). In this assignment, the block size is 1 for simplicity."
      ]
    },
    {
      "cell_type": "code",
      "metadata": {
        "deletable": false,
        "id": "dZ0CA7Zh8SFg",
        "nbgrader": {
          "cell_type": "code",
          "checksum": "869196f729bbb8bcc37eec98bfe7bc5c",
          "grade": false,
          "grade_id": "cell-caed9239ef4d6c41",
          "locked": false,
          "schema_version": 3,
          "solution": true,
          "task": false
        }
      },
      "source": [
        "def train_on_proteins(dataloader):\n",
        "    # YOUR CODE HERE\n",
        "    raise NotImplementedError()\n",
        "    # model = your model\n",
        "    # url = link to parameters\n",
        "    # open('params', 'wb').write(requests.get(url).content)\n",
        "    # model.load_state_dict(torch.load('params'))\n",
        "    # return model\n",
        "\n",
        "    model = BernoulliGNN(in_dim=40, hid_dim=128, num_layer=5)\n",
        "    model.to(device);\n",
        "    opt = Adam(model.parameters(), lr=0.0005)\n",
        "    n_epochs = 1000\n",
        "    for e in trange(n_epochs):\n",
        "        loss = train(model, dataloader, opt)\n",
        "        if e % 50 == 0 or e+1 == n_epochs:\n",
        "            print(f'Epoch: {e+1}/{n_epochs}, NLL loss: {loss:.4f}')\n",
        "            plt.figure(figsize=(2,2))\n",
        "            graph, feat = generate_graph(model, n_nodes=30, feat_dim=40)\n",
        "            G = nx.Graph(graph.cpu().to_networkx())\n",
        "            G.remove_edges_from(nx.selfloop_edges(G))\n",
        "            nx.draw_kamada_kawai(G, node_size=30)\n",
        "            plt.show()\n",
        "    return model"
      ],
      "execution_count": null,
      "outputs": []
    },
    {
      "cell_type": "code",
      "metadata": {
        "deletable": false,
        "editable": false,
        "id": "h45NOeIyAJCc",
        "nbgrader": {
          "cell_type": "code",
          "checksum": "a8b61d688ca4fb90673b181c7f10bdda",
          "grade": true,
          "grade_id": "cell-ac5f2ef782a08e49",
          "locked": true,
          "points": 1,
          "schema_version": 3,
          "solution": false,
          "task": false
        }
      },
      "source": [
        "model = train_on_proteins(dataloader)\n",
        "fake_graphs = []\n",
        "for _ in range(100):\n",
        "    graph = er_model.sample(np.random.choice(n_nodes_seq))\n",
        "    fake_graphs.append(graph)\n",
        "er_score = ks_score(fake_graphs, _test)\n",
        "\n",
        "fake_graphs = []\n",
        "for _ in trange(100):\n",
        "    graph, feat = generate_graph(model, np.random.choice(n_nodes_seq), feat_dim)\n",
        "    fake_graphs.append(graph.cpu())\n",
        "gnn_score = ks_score(fake_graphs, _test)\n",
        "\n",
        "assert gnn_score < er_score\n",
        "assert gnn_score < 1"
      ],
      "execution_count": null,
      "outputs": []
    },
    {
      "cell_type": "code",
      "metadata": {
        "id": "VlL7D-YqA2ol"
      },
      "source": [
        "print(f'Erdos Renyi KS score: {er_score:.4f}')\n",
        "print(f'GNN model KS score: {gnn_score:.4f}')"
      ],
      "execution_count": null,
      "outputs": []
    },
    {
      "cell_type": "markdown",
      "metadata": {
        "id": "K-XgXCy5vRkN"
      },
      "source": [
        "Examples of real graphs"
      ]
    },
    {
      "cell_type": "code",
      "metadata": {
        "id": "5HatCJvVvQ1L"
      },
      "source": [
        "plt.figure(figsize=(10, 10))\n",
        "for j in range(9):\n",
        "    plt.subplot(3, 3, j+1)\n",
        "    graph = np.random.choice(_test)\n",
        "    G = nx.Graph(graph.cpu().to_networkx())\n",
        "    G.remove_edges_from(nx.selfloop_edges(G))\n",
        "    nx.draw_kamada_kawai(G, node_size=30)"
      ],
      "execution_count": null,
      "outputs": []
    },
    {
      "cell_type": "markdown",
      "metadata": {
        "id": "u6tF7yD2vVHn"
      },
      "source": [
        "Examples of fake graphs"
      ]
    },
    {
      "cell_type": "code",
      "metadata": {
        "id": "92NGVUiau0Zj"
      },
      "source": [
        "plt.figure(figsize=(10, 10))\n",
        "for j in range(9):\n",
        "    plt.subplot(3, 3, j+1)\n",
        "    graph, feat = generate_graph(model, n_nodes=np.random.choice(n_nodes_seq), feat_dim=40)\n",
        "    G = nx.Graph(graph.cpu().to_networkx())\n",
        "    G.remove_edges_from(nx.selfloop_edges(G))\n",
        "    nx.draw_kamada_kawai(G, node_size=30)"
      ],
      "execution_count": null,
      "outputs": []
    },
    {
      "cell_type": "code",
      "metadata": {
        "id": "gJLgkvhJxcvc"
      },
      "source": [
        ""
      ],
      "execution_count": null,
      "outputs": []
    },
    {
      "cell_type": "code",
      "metadata": {
        "id": "RUioMKVuxLzP"
      },
      "source": [
        ""
      ],
      "execution_count": null,
      "outputs": []
    }
  ]
}